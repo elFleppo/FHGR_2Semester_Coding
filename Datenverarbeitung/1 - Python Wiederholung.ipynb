{
 "cells": [
  {
   "cell_type": "markdown",
   "metadata": {},
   "source": [
    "# Python - Kurzwiederholung\n",
    "\n",
    "Hier werden wir einige Beispiele betrachten, um noch einmal einige Python-Konzepte zu wiederholen. Sie können mitschreiben, oder am Ende mein fertiges Notebook herunterladen."
   ]
  },
  {
   "cell_type": "markdown",
   "metadata": {},
   "source": [
    "Elementare Datentypen"
   ]
  },
  {
   "cell_type": "code",
   "execution_count": null,
   "metadata": {},
   "outputs": [],
   "source": []
  },
  {
   "cell_type": "markdown",
   "metadata": {},
   "source": [
    "Umwandlung von Datentypen"
   ]
  },
  {
   "cell_type": "code",
   "execution_count": null,
   "metadata": {},
   "outputs": [],
   "source": []
  },
  {
   "cell_type": "markdown",
   "metadata": {},
   "source": [
    "Kontrollstrukturen: if, while, for, range-Funktion"
   ]
  },
  {
   "cell_type": "code",
   "execution_count": null,
   "metadata": {},
   "outputs": [],
   "source": []
  },
  {
   "cell_type": "markdown",
   "metadata": {},
   "source": [
    "Beispiele für Funktionen"
   ]
  },
  {
   "cell_type": "code",
   "execution_count": null,
   "metadata": {},
   "outputs": [],
   "source": []
  },
  {
   "cell_type": "markdown",
   "metadata": {},
   "source": [
    "Listen, Indizierung, Slicing"
   ]
  },
  {
   "cell_type": "code",
   "execution_count": null,
   "metadata": {},
   "outputs": [],
   "source": []
  },
  {
   "cell_type": "markdown",
   "metadata": {},
   "source": [
    "Tupel"
   ]
  },
  {
   "cell_type": "code",
   "execution_count": null,
   "metadata": {},
   "outputs": [],
   "source": []
  },
  {
   "cell_type": "markdown",
   "metadata": {},
   "source": [
    "builtin-Funktionen, Standardbibliothek"
   ]
  },
  {
   "cell_type": "code",
   "execution_count": null,
   "metadata": {},
   "outputs": [],
   "source": []
  },
  {
   "cell_type": "markdown",
   "metadata": {},
   "source": [
    "Dictionaries"
   ]
  },
  {
   "cell_type": "code",
   "execution_count": null,
   "metadata": {},
   "outputs": [],
   "source": []
  },
  {
   "cell_type": "markdown",
   "metadata": {},
   "source": [
    "List-Comprehensions"
   ]
  },
  {
   "cell_type": "code",
   "execution_count": null,
   "metadata": {},
   "outputs": [],
   "source": []
  },
  {
   "cell_type": "markdown",
   "metadata": {},
   "source": [
    "Klassen und Objekte"
   ]
  },
  {
   "cell_type": "code",
   "execution_count": null,
   "metadata": {},
   "outputs": [],
   "source": []
  },
  {
   "cell_type": "markdown",
   "metadata": {},
   "source": [
    "# Übung zu Listen und Schleifen\n",
    "\n",
    "Implementieren Sie die folgenden Funktionen - die Stichproben-Varianz  von $n$ Zahlen $x_1, x_1, ..., x_{n}$ berechnet sich wie folgt:\n",
    "\n",
    "$$s^2 = \\frac{1}{n - 1} \\sum_{i=1}^n (x_i - \\bar{x})^2$$"
   ]
  },
  {
   "cell_type": "code",
   "execution_count": 6,
   "metadata": {},
   "outputs": [
    {
     "ename": "NotImplementedError",
     "evalue": "",
     "output_type": "error",
     "traceback": [
      "\u001B[1;31m---------------------------------------------------------------------------\u001B[0m",
      "\u001B[1;31mNotImplementedError\u001B[0m                       Traceback (most recent call last)",
      "Input \u001B[1;32mIn [6]\u001B[0m, in \u001B[0;36m<cell line: 23>\u001B[1;34m()\u001B[0m\n\u001B[0;32m     21\u001B[0m \u001B[38;5;28;01massert\u001B[39;00m(\u001B[38;5;28msum\u001B[39m(xs) \u001B[38;5;241m==\u001B[39m \u001B[38;5;241m43\u001B[39m)\n\u001B[0;32m     22\u001B[0m \u001B[38;5;28;01massert\u001B[39;00m(\u001B[38;5;28mabs\u001B[39m(mean(xs) \u001B[38;5;241m-\u001B[39m \u001B[38;5;241m6.142\u001B[39m) \u001B[38;5;241m<\u001B[39m \u001B[38;5;241m0.001\u001B[39m)\n\u001B[1;32m---> 23\u001B[0m \u001B[38;5;28;01massert\u001B[39;00m(\u001B[38;5;28mabs\u001B[39m(\u001B[43mvariance\u001B[49m\u001B[43m(\u001B[49m\u001B[43mxs\u001B[49m\u001B[43m)\u001B[49m \u001B[38;5;241m-\u001B[39m \u001B[38;5;241m14.476\u001B[39m) \u001B[38;5;241m<\u001B[39m \u001B[38;5;241m0.001\u001B[39m)\n",
      "Input \u001B[1;32mIn [6]\u001B[0m, in \u001B[0;36mvariance\u001B[1;34m(elems)\u001B[0m\n\u001B[0;32m     15\u001B[0m \u001B[38;5;28;01mdef\u001B[39;00m \u001B[38;5;21mvariance\u001B[39m(elems):\n\u001B[0;32m     16\u001B[0m     \u001B[38;5;28;01mpass\u001B[39;00m\n\u001B[1;32m---> 17\u001B[0m     \u001B[38;5;28;01mraise\u001B[39;00m \u001B[38;5;167;01mNotImplementedError\u001B[39;00m\n",
      "\u001B[1;31mNotImplementedError\u001B[0m: "
     ]
    }
   ],
   "source": [
    "# Sie können davon ausgehen, das \"elems\" eine Liste mit Zahlen ist\n",
    "\n",
    "def sum(elems):\n",
    "    summe = 0\n",
    "    for i in elems:\n",
    "        summe = summe+i\n",
    "    return summe\n",
    "    raise NotImplementedError    \n",
    "    \n",
    "def mean(elems):\n",
    "    mean = sum(elems)/len(elems)\n",
    "    return mean\n",
    "    raise NotImplementedError\n",
    "\n",
    "def variance(elems):\n",
    "\n",
    "    raise NotImplementedError\n",
    "    \n",
    "# zum Testen auskommentieren\n",
    "xs = [1,3,4,6,8,9,12]\n",
    "assert(sum(xs) == 43)\n",
    "assert(abs(mean(xs) - 6.142) < 0.001)\n",
    "assert(abs(variance(xs) - 14.476) < 0.001)"
   ]
  },
  {
   "cell_type": "markdown",
   "metadata": {},
   "source": [
    "# Übung zu Tupeln - Distanz von 2 Punkten in einer Ebene\n",
    "\n",
    "Gegeben sind zwei Punkte $p_1 = (x_1, y_1)$ und $p_2 = (x_2, y_2)$ als Python-Tupel - schreiben Sie eine Funktion, die die Distanz zwischen den beiden Punkten zurückliefert."
   ]
  },
  {
   "cell_type": "code",
   "execution_count": 2,
   "metadata": {},
   "outputs": [],
   "source": [
    "def distance(p1, p2):\n",
    "    \"\"\"\n",
    "    Berechnet die (euklidische) Distanz zwischen p1 und p2\n",
    "    \"\"\"\n",
    "    raise NotImplementedError\n",
    "\n",
    "# zum Testen auskommentieren\n",
    "# assert(distance((1,4), (4,8)) == 5)\n",
    "# assert(distance((3,4), (15,9)) == 13)"
   ]
  },
  {
   "cell_type": "markdown",
   "metadata": {},
   "source": [
    "Wie müsste man die man die Funktion umschreiben, wenn es sich um Punkte im Raum mit Koordinaten $(x, y, z)$ handeln würde? Lässt sich diese Idee auch auf beliebig viele Dimensionen übertragen?"
   ]
  },
  {
   "cell_type": "markdown",
   "metadata": {},
   "source": [
    "# Übung zu Dictionaries"
   ]
  },
  {
   "cell_type": "markdown",
   "metadata": {},
   "source": [
    "Schreiben Sie eine Funktion, die die Buchstabenhäufigkeit eines Strings als Dictionary zurückliefert. Dabei sollen Grossbuchstaben wie Kleinbuchstaben behandelt werden und alle sonstigen Zeichen ignoriert werden. Beispiel:\n",
    "\n",
    "`character_statistics(\"a bb Ccc\")` liefert `{'a': 1, 'b': 2, 'c': 3}`"
   ]
  },
  {
   "cell_type": "code",
   "execution_count": 3,
   "metadata": {},
   "outputs": [],
   "source": [
    "def character_statistics(text):\n",
    "    \"\"\"\n",
    "    Liefert die Buchstabenhäufigkeit des übergebenen Strings als Dictionary zurück\n",
    "    \"\"\"\n",
    "    raise NotImplementedError    \n",
    "    \n",
    "# zum Testen\n",
    "# assert(character_statistics(\"a bb Ccc\") == {'a': 1, 'b': 2, 'c': 3})\n",
    "# assert(character_statistics(\"xyz\") == {'x': 1, 'y': 1, 'z': 1})\n",
    "# assert(character_statistics('hello world') == {'h': 1, 'e': 1, 'l': 3, 'o': 2, 'w': 1, 'r': 1, 'd': 1})\n",
    "# assert(character_statistics('') == {})"
   ]
  },
  {
   "cell_type": "code",
   "execution_count": null,
   "metadata": {},
   "outputs": [],
   "source": []
  }
 ],
 "metadata": {
  "kernelspec": {
   "display_name": "Python 3 (ipykernel)",
   "language": "python",
   "name": "python3"
  },
  "language_info": {
   "codemirror_mode": {
    "name": "ipython",
    "version": 3
   },
   "file_extension": ".py",
   "mimetype": "text/x-python",
   "name": "python",
   "nbconvert_exporter": "python",
   "pygments_lexer": "ipython3",
   "version": "3.8.12"
  }
 },
 "nbformat": 4,
 "nbformat_minor": 2
}
